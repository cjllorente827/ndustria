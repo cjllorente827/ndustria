{
 "cells": [
  {
   "cell_type": "markdown",
   "id": "dc1be5a6",
   "metadata": {},
   "source": [
    "# Hello!\n",
    "\n",
    "This tutorial goes over the basic functionality of ndustria. \n",
    "\n",
    "In this tutorial you will see:\n",
    " - How to initialize a Pipeline\n",
    " - How to define Pipeline Tasks\n",
    " - How to add Tasks to the Pipeline\n",
    " - How to run the Pipeline"
   ]
  },
  {
   "cell_type": "markdown",
   "id": "ce6b2ded",
   "metadata": {},
   "source": [
    "# Part I: Initialize a Pipeline"
   ]
  },
  {
   "cell_type": "code",
   "execution_count": 1,
   "id": "3c92b2ca",
   "metadata": {},
   "outputs": [],
   "source": [
    "from ndustria import Pipeline\n",
    "\n",
    "my_analysis_pipeline = Pipeline()"
   ]
  },
  {
   "cell_type": "markdown",
   "id": "3c08e0fd",
   "metadata": {},
   "source": [
    "# Part II: Define Pipeline Tasks\n",
    "\n",
    "The choice of parameters is important as they determine a unique id that is specifically associated with the data produced by the Task. Different parameters (or a different number of parameters) will produce a completely different unique id. Make sure that the parameters you choose are unique for the data you wish to produce."
   ]
  },
  {
   "cell_type": "code",
   "execution_count": 2,
   "id": "d7a7dcca",
   "metadata": {},
   "outputs": [],
   "source": [
    "#@my_analysis_pipeline.AddTask()\n",
    "def expensive_function(X, Y, Z):\n",
    "    sleep(10)\n",
    "    \n",
    "    return [1,2,3]\n",
    "\n",
    "def cheap_plot_function(data):\n",
    "    \n",
    "    # create a plot\n",
    "    # plt.plot(data)\n",
    "    # plt.savefig(\"plot.png\")\n",
    "    \n",
    "    # returning a filename tells ndustria that the product\n",
    "    # of this code is located at this file location\n",
    "    # and that if this file exists, to skip over this function\n",
    "    return \"plot.png\"\n",
    "\n",
    "my_analysis_pipeline.addTask(expensive_function)\n",
    "my_analysis_pipeline.addTask(cheap_plot_function, always_run=True)"
   ]
  },
  {
   "cell_type": "markdown",
   "id": "370c2678",
   "metadata": {},
   "source": [
    "# Part III: Add Tasks to Pipeline"
   ]
  },
  {
   "cell_type": "code",
   "execution_count": 5,
   "id": "2efffac8",
   "metadata": {},
   "outputs": [
    {
     "ename": "AttributeError",
     "evalue": "'Pipeline' object has no attribute 'expensive_function'",
     "output_type": "error",
     "traceback": [
      "\u001b[0;31m---------------------------------------------------------------------------\u001b[0m",
      "\u001b[0;31mAttributeError\u001b[0m                            Traceback (most recent call last)",
      "\u001b[0;32m/tmp/ipykernel_44226/2706918335.py\u001b[0m in \u001b[0;36m<module>\u001b[0;34m\u001b[0m\n\u001b[0;32m----> 1\u001b[0;31m \u001b[0mplot_data\u001b[0m \u001b[0;34m=\u001b[0m \u001b[0mmy_analysis_pipeline\u001b[0m\u001b[0;34m.\u001b[0m\u001b[0mexpensive_function\u001b[0m\u001b[0;34m(\u001b[0m\u001b[0;34m)\u001b[0m\u001b[0;34m\u001b[0m\u001b[0;34m\u001b[0m\u001b[0m\n\u001b[0m\u001b[1;32m      2\u001b[0m \u001b[0mplot_file\u001b[0m \u001b[0;34m=\u001b[0m \u001b[0mmy_analysis_pipeline\u001b[0m\u001b[0;34m.\u001b[0m\u001b[0mcheap_plot_function\u001b[0m\u001b[0;34m(\u001b[0m\u001b[0mplot_data\u001b[0m\u001b[0;34m)\u001b[0m\u001b[0;34m\u001b[0m\u001b[0;34m\u001b[0m\u001b[0m\n",
      "\u001b[0;31mAttributeError\u001b[0m: 'Pipeline' object has no attribute 'expensive_function'"
     ]
    }
   ],
   "source": [
    "plot_data = my_analysis_pipeline.expensive_function()\n",
    "plot_file = my_analysis_pipeline.cheap_plot_function(plot_data)"
   ]
  },
  {
   "cell_type": "markdown",
   "id": "a71d85b0",
   "metadata": {},
   "source": [
    "# Part IV: Run the Pipeline"
   ]
  },
  {
   "cell_type": "code",
   "execution_count": 4,
   "id": "4c941b15",
   "metadata": {},
   "outputs": [
    {
     "name": "stdout",
     "output_type": "stream",
     "text": [
      "---\n",
      " Starting a run with 0 tasks.\n",
      "---\n",
      "\n",
      "Finished all tasks after 0 iterations\n",
      "---\n",
      " 0 views remaining.\n",
      "---\n",
      "\n",
      "---\n",
      " Completed all views .\n",
      "---\n",
      "\n",
      "All done.\n"
     ]
    },
    {
     "ename": "NameError",
     "evalue": "name 'plot_file' is not defined",
     "output_type": "error",
     "traceback": [
      "\u001b[0;31m---------------------------------------------------------------------------\u001b[0m",
      "\u001b[0;31mNameError\u001b[0m                                 Traceback (most recent call last)",
      "\u001b[0;32m/tmp/ipykernel_44226/4268488996.py\u001b[0m in \u001b[0;36m<module>\u001b[0;34m\u001b[0m\n\u001b[1;32m      1\u001b[0m \u001b[0mmy_analysis_pipeline\u001b[0m\u001b[0;34m.\u001b[0m\u001b[0mrun\u001b[0m\u001b[0;34m(\u001b[0m\u001b[0;34m)\u001b[0m\u001b[0;34m\u001b[0m\u001b[0;34m\u001b[0m\u001b[0m\n\u001b[1;32m      2\u001b[0m \u001b[0;34m\u001b[0m\u001b[0m\n\u001b[0;32m----> 3\u001b[0;31m \u001b[0mplot_file\u001b[0m\u001b[0;34m\u001b[0m\u001b[0;34m\u001b[0m\u001b[0m\n\u001b[0m",
      "\u001b[0;31mNameError\u001b[0m: name 'plot_file' is not defined"
     ]
    }
   ],
   "source": [
    "my_analysis_pipeline.run()\n",
    "\n",
    "plot_file"
   ]
  },
  {
   "cell_type": "code",
   "execution_count": null,
   "id": "949fd61e",
   "metadata": {},
   "outputs": [],
   "source": []
  }
 ],
 "metadata": {
  "kernelspec": {
   "display_name": "Python 3 (ipykernel)",
   "language": "python",
   "name": "python3"
  },
  "language_info": {
   "codemirror_mode": {
    "name": "ipython",
    "version": 3
   },
   "file_extension": ".py",
   "mimetype": "text/x-python",
   "name": "python",
   "nbconvert_exporter": "python",
   "pygments_lexer": "ipython3",
   "version": "3.8.12"
  }
 },
 "nbformat": 4,
 "nbformat_minor": 5
}
